{
 "cells": [
  {
   "cell_type": "code",
   "execution_count": 2,
   "metadata": {},
   "outputs": [
    {
     "name": "stdout",
     "output_type": "stream",
     "text": [
      "Connected to: database.db\n"
     ]
    }
   ],
   "source": [
    "# test_config.py\n",
    "import config\n",
    "import sqlite3\n",
    "\n",
    "conn = sqlite3.connect(config.DATABASE)\n",
    "print(\"Connected to:\", config.DATABASE)\n",
    "conn.close()"
   ]
  },
  {
   "cell_type": "code",
   "execution_count": 1,
   "metadata": {},
   "outputs": [
    {
     "name": "stdout",
     "output_type": "stream",
     "text": [
      "Opesk-zbkI0j7n03bXe5pTioD-dLkPufKRGZATNaDlGXpiqBT3BlbkFJk702qNGNjBTJGI09ErSfeN1NSfTObyiGjvhjI2caAA\n"
     ]
    }
   ],
   "source": [
    "import config\n",
    "\n",
    "print(config.OPENAI_API_KEY)"
   ]
  }
 ],
 "metadata": {
  "kernelspec": {
   "display_name": "gra",
   "language": "python",
   "name": "python3"
  },
  "language_info": {
   "codemirror_mode": {
    "name": "ipython",
    "version": 3
   },
   "file_extension": ".py",
   "mimetype": "text/x-python",
   "name": "python",
   "nbconvert_exporter": "python",
   "pygments_lexer": "ipython3",
   "version": "3.12.9"
  }
 },
 "nbformat": 4,
 "nbformat_minor": 2
}
