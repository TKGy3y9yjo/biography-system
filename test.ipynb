{
 "cells": [
  {
   "cell_type": "code",
   "execution_count": 2,
   "metadata": {},
   "outputs": [
    {
     "name": "stdout",
     "output_type": "stream",
     "text": [
      "Connected to: database.db\n"
     ]
    }
   ],
   "source": [
    "# test_config.py\n",
    "import config\n",
    "import sqlite3\n",
    "\n",
    "conn = sqlite3.connect(config.DATABASE)\n",
    "print(\"Connected to:\", config.DATABASE)\n",
    "conn.close()"
   ]
  },
  {
   "cell_type": "code",
   "execution_count": 1,
   "metadata": {},
   "outputs": [
    {
     "name": "stdout",
     "output_type": "stream",
     "text": [
      "Opesk-zbkI0j7n03bXe5pTioD-dLkPufKRGZATNaDlGXpiqBT3BlbkFJk702qNGNjBTJGI09ErSfeN1NSfTObyiGjvhjI2caAA\n"
     ]
    }
   ],
   "source": [
    "import config\n",
    "\n",
    "print(config.OPENAI_API_KEY)"
   ]
  },
  {
   "cell_type": "code",
   "execution_count": null,
   "metadata": {},
   "outputs": [
    {
     "ename": "TypeError",
     "evalue": "'int' object is not callable",
     "output_type": "error",
     "traceback": [
      "\u001b[1;31m---------------------------------------------------------------------------\u001b[0m",
      "\u001b[1;31mTypeError\u001b[0m                                 Traceback (most recent call last)",
      "Cell \u001b[1;32mIn[17], line 2\u001b[0m\n\u001b[0;32m      1\u001b[0m a \u001b[38;5;241m=\u001b[39m [[\u001b[38;5;124m'\u001b[39m\u001b[38;5;124mHarry\u001b[39m\u001b[38;5;124m'\u001b[39m, \u001b[38;5;241m37.21\u001b[39m], [\u001b[38;5;124m'\u001b[39m\u001b[38;5;124mBerry\u001b[39m\u001b[38;5;124m'\u001b[39m, \u001b[38;5;241m37.21\u001b[39m], [\u001b[38;5;124m'\u001b[39m\u001b[38;5;124mTina\u001b[39m\u001b[38;5;124m'\u001b[39m, \u001b[38;5;241m37.2\u001b[39m], [\u001b[38;5;124m'\u001b[39m\u001b[38;5;124mAkriti\u001b[39m\u001b[38;5;124m'\u001b[39m, \u001b[38;5;241m41\u001b[39m], [\u001b[38;5;124m'\u001b[39m\u001b[38;5;124mHarsh\u001b[39m\u001b[38;5;124m'\u001b[39m, \u001b[38;5;241m39\u001b[39m]]\n\u001b[1;32m----> 2\u001b[0m s \u001b[38;5;241m=\u001b[39m \u001b[43ma\u001b[49m\u001b[38;5;241;43m.\u001b[39;49m\u001b[43msort\u001b[49m\u001b[43m(\u001b[49m\u001b[43mkey\u001b[49m\u001b[38;5;241;43m=\u001b[39;49m\u001b[38;5;241;43m1\u001b[39;49m\u001b[43m)\u001b[49m\n\u001b[0;32m      3\u001b[0m s\n",
      "\u001b[1;31mTypeError\u001b[0m: 'int' object is not callable"
     ]
    }
   ],
   "source": [
    "a = [['Harry', 37.21], ['Berry', 37.21], ['Tina', 37.2], ['Akriti', 41], ['Harsh', 39]]\n",
    "s = a.sort(key=elem[1])\n",
    "s\n",
    "    "
   ]
  },
  {
   "cell_type": "code",
   "execution_count": 28,
   "metadata": {},
   "outputs": [
    {
     "name": "stdout",
     "output_type": "stream",
     "text": [
      "Harry\n",
      "Berry\n"
     ]
    }
   ],
   "source": [
    "# 获取列表的第二个元素\n",
    "def takeSecond(elem):\n",
    "    return elem[1]\n",
    "ans = []\n",
    "# 列表\n",
    "random = [['Harry', 37.21], ['Berry', 37.21], ['Tina', 37.2], ['Akriti', 41], ['Harsh', 39]]\n",
    " \n",
    "sort1 = sorted(random,key = lambda x: x[1])\n",
    "for i in sort1:\n",
    "    if sort1[0][1] < i[1]:\n",
    "        if ans == []:\n",
    "            ans.append(i)\n",
    "        elif ans[0][1] == i[1]:\n",
    "            ans.append(i)\n",
    "for i in ans:\n",
    "    print(i[0])"
   ]
  },
  {
   "cell_type": "code",
   "execution_count": 3,
   "metadata": {},
   "outputs": [],
   "source": [
    "from flask import Blueprint, request, jsonify\n",
    "from passlib.hash import pbkdf2_sha256\n",
    "import sqlite3\n",
    "import config\n",
    "import jwt\n",
    "from datetime import datetime, timedelta\n",
    "from config import ENGINE, SECRET_KEY\n",
    "from sqlalchemy.sql import text\n",
    "\n",
    "\n",
    "email = \"a0909964321@gmail.com\"\n",
    "hashed_password = \"a\"\n",
    "\n",
    "with ENGINE.connect() as conn:\n",
    "            conn.execute(\n",
    "                text(\"INSERT INTO users (email, password) VALUES (:email, :password)\"),\n",
    "                {\"email\": email, \"password\": hashed_password}\n",
    "            )"
   ]
  },
  {
   "cell_type": "code",
   "execution_count": null,
   "metadata": {},
   "outputs": [],
   "source": []
  }
 ],
 "metadata": {
  "kernelspec": {
   "display_name": "gra",
   "language": "python",
   "name": "python3"
  },
  "language_info": {
   "codemirror_mode": {
    "name": "ipython",
    "version": 3
   },
   "file_extension": ".py",
   "mimetype": "text/x-python",
   "name": "python",
   "nbconvert_exporter": "python",
   "pygments_lexer": "ipython3",
   "version": "3.12.9"
  }
 },
 "nbformat": 4,
 "nbformat_minor": 2
}
